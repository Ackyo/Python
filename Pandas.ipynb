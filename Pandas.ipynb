{
 "cells": [
  {
   "cell_type": "code",
   "execution_count": 20,
   "metadata": {
    "pycharm": {
     "is_executing": false,
     "name": "#%%\n"
    }
   },
   "outputs": [
    {
     "data": {
      "text/plain": "0    1.0\n1    3.0\n2    5.0\n3    NaN\n4    6.0\n5    8.0\ndtype: float64"
     },
     "metadata": {},
     "output_type": "execute_result",
     "execution_count": 20
    }
   ],
   "source": [
    "import pandas as pd\n",
    "import numpy as np\n",
    "\n",
    "pd.Series([1,3,5,np.nan,6,8])"
   ]
  },
  {
   "cell_type": "code",
   "execution_count": 21,
   "outputs": [
    {
     "data": {
      "text/plain": "                   A         B         C         D\n2017-01-01 -0.237226  0.065688 -1.650932  0.417587\n2017-01-02  0.635293  0.661971 -0.253459  0.572517\n2017-01-03  0.843241 -0.014136  1.194340  0.690518\n2017-01-04  2.242781  0.836845 -0.701321 -0.733367\n2017-01-05  0.971420  0.949545  0.422214  1.184160\n2017-01-06  1.481754 -1.311194  0.979707  1.712156\n2017-01-07  1.110982 -0.641952 -0.351498 -2.306223",
      "text/html": "<div>\n<style scoped>\n    .dataframe tbody tr th:only-of-type {\n        vertical-align: middle;\n    }\n\n    .dataframe tbody tr th {\n        vertical-align: top;\n    }\n\n    .dataframe thead th {\n        text-align: right;\n    }\n</style>\n<table border=\"1\" class=\"dataframe\">\n  <thead>\n    <tr style=\"text-align: right;\">\n      <th></th>\n      <th>A</th>\n      <th>B</th>\n      <th>C</th>\n      <th>D</th>\n    </tr>\n  </thead>\n  <tbody>\n    <tr>\n      <th>2017-01-01</th>\n      <td>-0.237226</td>\n      <td>0.065688</td>\n      <td>-1.650932</td>\n      <td>0.417587</td>\n    </tr>\n    <tr>\n      <th>2017-01-02</th>\n      <td>0.635293</td>\n      <td>0.661971</td>\n      <td>-0.253459</td>\n      <td>0.572517</td>\n    </tr>\n    <tr>\n      <th>2017-01-03</th>\n      <td>0.843241</td>\n      <td>-0.014136</td>\n      <td>1.194340</td>\n      <td>0.690518</td>\n    </tr>\n    <tr>\n      <th>2017-01-04</th>\n      <td>2.242781</td>\n      <td>0.836845</td>\n      <td>-0.701321</td>\n      <td>-0.733367</td>\n    </tr>\n    <tr>\n      <th>2017-01-05</th>\n      <td>0.971420</td>\n      <td>0.949545</td>\n      <td>0.422214</td>\n      <td>1.184160</td>\n    </tr>\n    <tr>\n      <th>2017-01-06</th>\n      <td>1.481754</td>\n      <td>-1.311194</td>\n      <td>0.979707</td>\n      <td>1.712156</td>\n    </tr>\n    <tr>\n      <th>2017-01-07</th>\n      <td>1.110982</td>\n      <td>-0.641952</td>\n      <td>-0.351498</td>\n      <td>-2.306223</td>\n    </tr>\n  </tbody>\n</table>\n</div>"
     },
     "metadata": {},
     "output_type": "execute_result",
     "execution_count": 21
    }
   ],
   "source": [
    "dates = pd.date_range('20170101', periods=7)\n",
    "\n",
    "pd.DataFrame(np.random.randn(7,4), index=dates, columns=list('ABCD'))\n",
    "\n",
    "\n",
    "\n"
   ],
   "metadata": {
    "collapsed": false,
    "pycharm": {
     "name": "#%%\n",
     "is_executing": false
    }
   }
  }
 ],
 "metadata": {
  "kernelspec": {
   "display_name": "Python 3",
   "language": "python",
   "name": "python3"
  },
  "language_info": {
   "codemirror_mode": {
    "name": "ipython",
    "version": 3
   },
   "file_extension": ".py",
   "mimetype": "text/x-python",
   "name": "python",
   "nbconvert_exporter": "python",
   "pygments_lexer": "ipython3",
   "version": "3.7.3"
  },
  "pycharm": {
   "stem_cell": {
    "cell_type": "raw",
    "source": [],
    "metadata": {
     "collapsed": false
    }
   }
  }
 },
 "nbformat": 4,
 "nbformat_minor": 1
}